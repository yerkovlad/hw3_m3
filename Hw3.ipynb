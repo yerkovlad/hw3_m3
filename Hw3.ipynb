{
 "cells": [
  {
   "cell_type": "code",
   "execution_count": 23,
   "metadata": {},
   "outputs": [],
   "source": [
    "import numpy as np\n",
    "import pandas as pd"
   ]
  },
  {
   "cell_type": "markdown",
   "metadata": {},
   "source": [
    "напишіть функцію гіпотези лінійної регресії у векторному вигляді"
   ]
  },
  {
   "cell_type": "code",
   "execution_count": 5,
   "metadata": {},
   "outputs": [],
   "source": [
    "def linear_hypothesis(X, w):\n",
    "    return np.dot(X, w)"
   ]
  },
  {
   "cell_type": "markdown",
   "metadata": {},
   "source": [
    "створіть функцію для обчислення функції втрат у векторному вигляд"
   ]
  },
  {
   "cell_type": "code",
   "execution_count": 6,
   "metadata": {},
   "outputs": [],
   "source": [
    "def mean_squared_error(hypothesis, y):\n",
    "    m = len(y)\n",
    "    return (1/(2*m)) * np.sum((hypothesis - y)**2)"
   ]
  },
  {
   "cell_type": "markdown",
   "metadata": {},
   "source": [
    "реалізуйте один крок градієнтного спуску"
   ]
  },
  {
   "cell_type": "code",
   "execution_count": 28,
   "metadata": {},
   "outputs": [],
   "source": [
    "def gradient_descent_step(X, y, w, alpha):\n",
    "    m = len(y)\n",
    "    hypothesis = linear_hypothesis(X, w)\n",
    "    gradient = np.dot(X.T, (hypothesis - y)) / m\n",
    "    w = w - alpha * gradient\n",
    "\n",
    "    return w"
   ]
  },
  {
   "cell_type": "markdown",
   "metadata": {},
   "source": [
    "знайдіть найкращі параметри w для датасету прогнозуючу ціну на будинок залежно від площі, кількості ванних кімнат та кількості спалень"
   ]
  },
  {
   "cell_type": "code",
   "execution_count": 24,
   "metadata": {},
   "outputs": [
    {
     "name": "stdout",
     "output_type": "stream",
     "text": [
      "[[3013235.23858269]\n",
      " [ 568031.81529904]\n",
      " [ 510449.14553165]\n",
      " [ 312194.01060182]]\n"
     ]
    }
   ],
   "source": [
    "df = pd.read_csv('Housing.csv')\n",
    "\n",
    "features = ['area', 'bathrooms', 'bedrooms']\n",
    "target = 'price'\n",
    "\n",
    "X_numeric = df[features].values\n",
    "X_numeric = (X_numeric - np.mean(X_numeric, axis=0)) / np.std(X_numeric, axis=0)\n",
    "X = np.hstack((np.ones((X_numeric.shape[0], 1)), X_numeric))\n",
    "\n",
    "num_iterations = 10000\n",
    "alpha = 0.0001\n",
    "\n",
    "y = df[target].values.reshape(-1, 1)\n",
    "\n",
    "w = np.zeros((X.shape[1], 1))\n",
    "\n",
    "for i in range(num_iterations):\n",
    "    hypothesis = np.dot(X, w)\n",
    "    gradient = np.dot(X.T, (hypothesis - y)) / len(y)\n",
    "    w = w - alpha * gradient\n",
    "\n",
    "print(w)"
   ]
  },
  {
   "cell_type": "markdown",
   "metadata": {},
   "source": [
    "знайдіть ці ж параметри за допомогою аналітичного рішення"
   ]
  },
  {
   "cell_type": "code",
   "execution_count": 26,
   "metadata": {},
   "outputs": [
    {
     "name": "stdout",
     "output_type": "stream",
     "text": [
      "[[-1.73171608e+05]\n",
      " [ 3.78762754e+02]\n",
      " [ 1.38604950e+06]\n",
      " [ 4.06820034e+05]]\n"
     ]
    }
   ],
   "source": [
    "import pandas as pd\n",
    "import numpy as np\n",
    "\n",
    "df = pd.read_csv('Housing.csv')\n",
    "features = ['area', 'bathrooms', 'bedrooms']\n",
    "target = 'price'\n",
    "X_numeric = df[features].values\n",
    "X = np.hstack((np.ones((X_numeric.shape[0], 1)), X_numeric))\n",
    "y = df[target].values.reshape(-1, 1)\n",
    "w = np.linalg.inv(X.T @ X) @ X.T @ y\n",
    "\n",
    "print(w)"
   ]
  },
  {
   "cell_type": "markdown",
   "metadata": {},
   "source": [
    "порівняйте отримані результати"
   ]
  },
  {
   "cell_type": "code",
   "execution_count": 31,
   "metadata": {},
   "outputs": [
    {
     "name": "stdout",
     "output_type": "stream",
     "text": [
      "Оптимальні параметри за градієнтним спуском:\n",
      "[[4766729.24770638]\n",
      " [ 821214.14349519]\n",
      " [ 695808.52272536]\n",
      " [ 299983.57107964]]\n",
      "\n",
      "Оптимальні параметри за аналітичним рішенням:\n",
      "[[-1.73171608e+05]\n",
      " [ 3.78762754e+02]\n",
      " [ 1.38604950e+06]\n",
      " [ 4.06820034e+05]]\n"
     ]
    }
   ],
   "source": [
    "def find_optimal_parameters(X, y, num_iterations=10000, alpha=0.0001):\n",
    "    X_normalized = (X[:, 1:] - np.mean(X[:, 1:], axis=0)) / np.std(X[:, 1:], axis=0)\n",
    "    X_normalized = np.hstack((np.ones((X.shape[0], 1)), X_normalized))\n",
    "\n",
    "    w = np.zeros((X_normalized.shape[1], 1))\n",
    "\n",
    "    for _ in range(num_iterations):\n",
    "        w = gradient_descent_step(X_normalized, y, w, alpha)\n",
    "\n",
    "    return w\n",
    "\n",
    "df = pd.read_csv('Housing.csv')\n",
    "\n",
    "features = ['area', 'bathrooms', 'bedrooms']\n",
    "target = 'price'\n",
    "\n",
    "X_numeric = df[features].values\n",
    "X = np.hstack((np.ones((X_numeric.shape[0], 1)), X_numeric))\n",
    "y = df[target].values.reshape(-1, 1)\n",
    "\n",
    "num_iterations = 100000\n",
    "alpha = 0.01\n",
    "\n",
    "w_gradient_descent = find_optimal_parameters(X, y, num_iterations, alpha)\n",
    "w_analytical_solution = np.linalg.inv(X.T @ X) @ X.T @ y\n",
    "\n",
    "print(\"Оптимальні параметри за градієнтним спуском:\")\n",
    "print(w_gradient_descent)\n",
    "print(\"\\nОптимальні параметри за аналітичним рішенням:\")\n",
    "print(w_analytical_solution)\n"
   ]
  }
 ],
 "metadata": {
  "kernelspec": {
   "display_name": "Python 3",
   "language": "python",
   "name": "python3"
  },
  "language_info": {
   "codemirror_mode": {
    "name": "ipython",
    "version": 3
   },
   "file_extension": ".py",
   "mimetype": "text/x-python",
   "name": "python",
   "nbconvert_exporter": "python",
   "pygments_lexer": "ipython3",
   "version": "3.11.4"
  }
 },
 "nbformat": 4,
 "nbformat_minor": 2
}
